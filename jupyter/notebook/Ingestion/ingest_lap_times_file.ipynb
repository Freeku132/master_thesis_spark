{
 "cells": [
  {
   "cell_type": "markdown",
   "id": "f0699a6f",
   "metadata": {},
   "source": [
    "## Ingest lap_times csv files"
   ]
  },
  {
   "cell_type": "markdown",
   "id": "e323ab1f",
   "metadata": {},
   "source": [
    "### Step1. Read multiple csv files using spark DataFrame reader"
   ]
  },
  {
   "cell_type": "code",
   "execution_count": 5,
   "id": "ec270cba",
   "metadata": {},
   "outputs": [],
   "source": [
    "import findspark\n",
    "findspark.init('/opt/spark')\n",
    "from pyspark.sql import SparkSession\n",
    "from pyspark.sql.types import StructType, StructField, IntegerType, StringType\n",
    "from pyspark.sql.functions import current_timestamp"
   ]
  },
  {
   "cell_type": "code",
   "execution_count": 6,
   "id": "3d0e8dd9",
   "metadata": {},
   "outputs": [],
   "source": [
    "spark = SparkSession.builder\\\n",
    "    .enableHiveSupport()\\\n",
    "    .getOrCreate()"
   ]
  },
  {
   "cell_type": "code",
   "execution_count": 7,
   "id": "f97be37f",
   "metadata": {},
   "outputs": [],
   "source": [
    "lap_times_schema = StructType(\n",
    "    fields = [\n",
    "        StructField(\"raceId\", IntegerType(), False),\n",
    "        StructField(\"driverId\", IntegerType(), True),\n",
    "        StructField(\"lap\", IntegerType(), True),\n",
    "        StructField(\"position\", IntegerType(), True),\n",
    "        StructField(\"time\", StringType(), True),\n",
    "        StructField(\"milliseconds\", IntegerType(), True),\n",
    "])"
   ]
  },
  {
   "cell_type": "code",
   "execution_count": 8,
   "id": "631228b4",
   "metadata": {},
   "outputs": [],
   "source": [
    "lap_times_df = spark.read \\\n",
    "    .schema(lap_times_schema) \\\n",
    "    .csv(\"/user/jupyter/formula1/raw/lap_times/lap_times_split_*.csv\")"
   ]
  },
  {
   "cell_type": "markdown",
   "id": "be000e5b",
   "metadata": {},
   "source": [
    "### Step2. Rename columns and add new columns\n"
   ]
  },
  {
   "cell_type": "code",
   "execution_count": 10,
   "id": "3cb6ce04",
   "metadata": {},
   "outputs": [],
   "source": [
    "final_df = lap_times_df \\\n",
    "    .withColumnRenamed(\"raceId\", \"race_id\") \\\n",
    "    .withColumnRenamed(\"driverId\", \"driver_id\") \\\n",
    "    .withColumn(\"ingestion_date\", current_timestamp())"
   ]
  },
  {
   "cell_type": "code",
   "execution_count": 12,
   "id": "5091e9fc",
   "metadata": {},
   "outputs": [
    {
     "name": "stderr",
     "output_type": "stream",
     "text": [
      "                                                                                \r"
     ]
    }
   ],
   "source": [
    "final_df.write.mode(\"overwrite\").parquet(\"/user/jupyter/formula1/processed/lap_times\")"
   ]
  },
  {
   "cell_type": "code",
   "execution_count": 14,
   "id": "887ce8b7",
   "metadata": {},
   "outputs": [],
   "source": [
    "spark.stop()"
   ]
  }
 ],
 "metadata": {
  "kernelspec": {
   "display_name": "Python 3 (ipykernel)",
   "language": "python",
   "name": "python3"
  },
  "language_info": {
   "codemirror_mode": {
    "name": "ipython",
    "version": 3
   },
   "file_extension": ".py",
   "mimetype": "text/x-python",
   "name": "python",
   "nbconvert_exporter": "python",
   "pygments_lexer": "ipython3",
   "version": "3.10.12"
  }
 },
 "nbformat": 4,
 "nbformat_minor": 5
}
