{
 "cells": [
  {
   "cell_type": "markdown",
   "id": "f068ad8d",
   "metadata": {},
   "source": [
    "## Ingest circuits.csv file"
   ]
  },
  {
   "cell_type": "markdown",
   "id": "c42d7f12",
   "metadata": {},
   "source": [
    "### Step 1. Read the csv file using the spark DataFrame reader"
   ]
  },
  {
   "cell_type": "code",
   "execution_count": 1,
   "id": "c8eb60f4",
   "metadata": {},
   "outputs": [],
   "source": [
    "import findspark\n",
    "findspark.init('/opt/spark')\n",
    "from pyspark.sql import SparkSession\n",
    "from pyspark.sql.types import StructType, StructField, IntegerType, StringType, DoubleType\n",
    "from pyspark.sql.functions import col, current_timestamp"
   ]
  },
  {
   "cell_type": "code",
   "execution_count": 2,
   "id": "fa60f62b",
   "metadata": {},
   "outputs": [
    {
     "name": "stderr",
     "output_type": "stream",
     "text": [
      "Setting default log level to \"WARN\".\n",
      "To adjust logging level use sc.setLogLevel(newLevel). For SparkR, use setLogLevel(newLevel).\n"
     ]
    },
    {
     "data": {
      "text/html": [
       "\n",
       "            <div>\n",
       "                <p><b>SparkSession - hive</b></p>\n",
       "                \n",
       "        <div>\n",
       "            <p><b>SparkContext</b></p>\n",
       "\n",
       "            <p><a href=\"http://jupyter:4040\">Spark UI</a></p>\n",
       "\n",
       "            <dl>\n",
       "              <dt>Version</dt>\n",
       "                <dd><code>v3.5.3</code></dd>\n",
       "              <dt>Master</dt>\n",
       "                <dd><code>yarn</code></dd>\n",
       "              <dt>AppName</dt>\n",
       "                <dd><code>pyspark-shell</code></dd>\n",
       "            </dl>\n",
       "        </div>\n",
       "        \n",
       "            </div>\n",
       "        "
      ],
      "text/plain": [
       "<pyspark.sql.session.SparkSession at 0x1474d7c24c40>"
      ]
     },
     "execution_count": 2,
     "metadata": {},
     "output_type": "execute_result"
    }
   ],
   "source": [
    "spark = SparkSession.builder\\\n",
    "    .enableHiveSupport()\\\n",
    "    .getOrCreate()\n",
    "spark"
   ]
  },
  {
   "cell_type": "code",
   "execution_count": 3,
   "id": "54f24bb0",
   "metadata": {},
   "outputs": [],
   "source": [
    "circuits_schema = StructType(\n",
    "    fields = [\n",
    "        StructField(\"circuitId\", IntegerType(), False),\n",
    "        StructField(\"circuitRef\", StringType(), True),\n",
    "        StructField(\"name\", StringType(), True),\n",
    "        StructField(\"location\", StringType(), False),\n",
    "        StructField(\"country\", StringType(), True),\n",
    "        StructField(\"lat\", DoubleType(), True),\n",
    "        StructField(\"lng\", DoubleType(), True),\n",
    "        StructField(\"alt\", IntegerType(), True),\n",
    "        StructField(\"url\", StringType(), True),\n",
    "])"
   ]
  },
  {
   "cell_type": "code",
   "execution_count": 4,
   "id": "70b4b93d",
   "metadata": {},
   "outputs": [],
   "source": [
    "circuits_df = spark.read \\\n",
    "    .option(\"header\", True) \\\n",
    "    .schema(circuits_schema) \\\n",
    "    .csv('/user/jupyter/formula1/raw/circuits.csv')"
   ]
  },
  {
   "cell_type": "markdown",
   "id": "1a2aea4a",
   "metadata": {},
   "source": [
    "### Step 2. Select only required columns"
   ]
  },
  {
   "cell_type": "code",
   "execution_count": 5,
   "id": "e72ce0f2",
   "metadata": {},
   "outputs": [],
   "source": [
    "circuits_selected_df = circuits_df.select(\n",
    "    col(\"circuitId\"),\n",
    "    col(\"circuitRef\"), \n",
    "    col(\"name\"), \n",
    "    col(\"location\"), \n",
    "    col(\"country\"), \n",
    "    col(\"lat\"),\n",
    "    col(\"lng\"),\n",
    "    col(\"alt\")\n",
    ")"
   ]
  },
  {
   "cell_type": "markdown",
   "id": "2a858306",
   "metadata": {},
   "source": [
    "### Step 3. Rename columns"
   ]
  },
  {
   "cell_type": "code",
   "execution_count": 6,
   "id": "d1200446",
   "metadata": {},
   "outputs": [],
   "source": [
    "circuits_renamed_df = circuits_selected_df \\\n",
    "    .withColumnRenamed(\"circuitId\", \"circuit_id\") \\\n",
    "    .withColumnRenamed(\"circuitRef\", \"circuit_ref\") \\\n",
    "    .withColumnRenamed(\"lat\", \"latitude\") \\\n",
    "    .withColumnRenamed(\"lng\", \"longitude\") \\\n",
    "    .withColumnRenamed(\"alt\", \"altitude\")"
   ]
  },
  {
   "cell_type": "markdown",
   "id": "1b570792",
   "metadata": {},
   "source": [
    "### Step 4. Add ingestion data to the DataFrame"
   ]
  },
  {
   "cell_type": "code",
   "execution_count": 7,
   "id": "27675f91",
   "metadata": {},
   "outputs": [],
   "source": [
    "circuits_final_df = circuits_renamed_df.withColumn(\"ingestion_date\", current_timestamp())"
   ]
  },
  {
   "cell_type": "markdown",
   "id": "84cef97f",
   "metadata": {},
   "source": [
    "### Step 5. Save the transformed data in HDFS as a parquet"
   ]
  },
  {
   "cell_type": "code",
   "execution_count": 8,
   "id": "73bbe5e8",
   "metadata": {},
   "outputs": [
    {
     "name": "stderr",
     "output_type": "stream",
     "text": [
      "                                                                                \r"
     ]
    }
   ],
   "source": [
    "circuits_final_df.write.mode(\"overwrite\").parquet(\"/user/jupyter/formula1/processed/circuits\")"
   ]
  },
  {
   "cell_type": "code",
   "execution_count": 9,
   "id": "af597373",
   "metadata": {},
   "outputs": [],
   "source": [
    "spark.stop()"
   ]
  }
 ],
 "metadata": {
  "kernelspec": {
   "display_name": "Python 3 (ipykernel)",
   "language": "python",
   "name": "python3"
  },
  "language_info": {
   "codemirror_mode": {
    "name": "ipython",
    "version": 3
   },
   "file_extension": ".py",
   "mimetype": "text/x-python",
   "name": "python",
   "nbconvert_exporter": "python",
   "pygments_lexer": "ipython3",
   "version": "3.10.12"
  }
 },
 "nbformat": 4,
 "nbformat_minor": 5
}
