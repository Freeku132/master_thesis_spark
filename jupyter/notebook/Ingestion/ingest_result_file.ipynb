{
 "cells": [
  {
   "cell_type": "markdown",
   "id": "a3cb20cc",
   "metadata": {},
   "source": [
    "## Ingest results.json file"
   ]
  },
  {
   "cell_type": "markdown",
   "id": "0d986ac0",
   "metadata": {},
   "source": [
    "### Step 1. Read the json file using spark DataFrame reader"
   ]
  },
  {
   "cell_type": "code",
   "execution_count": 1,
   "id": "cf4307f5",
   "metadata": {},
   "outputs": [],
   "source": [
    "import findspark\n",
    "findspark.init('/opt/spark')\n",
    "from pyspark.sql import SparkSession\n",
    "from pyspark.sql.types import StructType, StructField, IntegerType, StringType, FloatType\n",
    "from pyspark.sql.functions import col, current_timestamp"
   ]
  },
  {
   "cell_type": "code",
   "execution_count": 2,
   "id": "37fa73ca",
   "metadata": {},
   "outputs": [
    {
     "name": "stderr",
     "output_type": "stream",
     "text": [
      "Setting default log level to \"WARN\".\n",
      "To adjust logging level use sc.setLogLevel(newLevel). For SparkR, use setLogLevel(newLevel).\n"
     ]
    }
   ],
   "source": [
    "spark = SparkSession.builder\\\n",
    "    .enableHiveSupport()\\\n",
    "    .getOrCreate()"
   ]
  },
  {
   "cell_type": "code",
   "execution_count": 3,
   "id": "021fa6b1",
   "metadata": {},
   "outputs": [],
   "source": [
    "results_schema = StructType(\n",
    "    fields = [\n",
    "        StructField(\"resultId\", IntegerType(), False),\n",
    "        StructField(\"raceId\", IntegerType(), True),\n",
    "        StructField(\"driverId\", IntegerType(), True),\n",
    "        StructField(\"constructorId\", IntegerType(), True),\n",
    "        StructField(\"number\", IntegerType(), True),\n",
    "        StructField(\"grid\", IntegerType(), True),\n",
    "        StructField(\"position\", IntegerType(), True),\n",
    "        StructField(\"positionText\", StringType(), True),\n",
    "        StructField(\"positionOrder\", IntegerType(), True),\n",
    "        StructField(\"points\", FloatType(), True),\n",
    "        StructField(\"laps\", IntegerType(), True),\n",
    "        StructField(\"time\", StringType(), True),\n",
    "        StructField(\"milliseconds\", IntegerType(), True),\n",
    "        StructField(\"fastestLap\", IntegerType(), True),\n",
    "        StructField(\"rank\", IntegerType(), True),\n",
    "        StructField(\"fastestLapTime\", StringType(), True),\n",
    "        StructField(\"fastestLapSpeed\", FloatType(), True),\n",
    "        StructField(\"statusId\", StringType(), True)\n",
    "])"
   ]
  },
  {
   "cell_type": "code",
   "execution_count": 4,
   "id": "b8f15743",
   "metadata": {},
   "outputs": [],
   "source": [
    "results_df = spark.read \\\n",
    "    .schema(results_schema) \\\n",
    "    .json(\"/user/jupyter/formula1/raw/results.json\")"
   ]
  },
  {
   "cell_type": "markdown",
   "id": "dc536d8d",
   "metadata": {},
   "source": [
    "### Step 2. Rename columns and new columns"
   ]
  },
  {
   "cell_type": "code",
   "execution_count": 5,
   "id": "7fdf8681",
   "metadata": {},
   "outputs": [],
   "source": [
    "results_with_new_columns_df = results_df \\\n",
    "    .withColumnRenamed(\"resultId\", \"result_id\") \\\n",
    "    .withColumnRenamed(\"raceId\", \"race_id\") \\\n",
    "    .withColumnRenamed(\"driverId\", \"driver_id\") \\\n",
    "    .withColumnRenamed(\"constructorId\", \"constructor_id\") \\\n",
    "    .withColumnRenamed(\"positionText\", \"position_text\") \\\n",
    "    .withColumnRenamed(\"positionOrder\", \"position_order\") \\\n",
    "    .withColumnRenamed(\"fastestLap\", \"fastest_lap\") \\\n",
    "    .withColumnRenamed(\"fastestLapTime\", \"fastest_lap_time\") \\\n",
    "    .withColumnRenamed(\"fastestLapSpeed\", \"fastest_lap_speed\") \\\n",
    "    .withColumn(\"ingestion_date\", current_timestamp())"
   ]
  },
  {
   "cell_type": "markdown",
   "id": "b96549ec",
   "metadata": {},
   "source": [
    "### Step 3. Drop the unwanted column"
   ]
  },
  {
   "cell_type": "code",
   "execution_count": 6,
   "id": "13e34b2d",
   "metadata": {},
   "outputs": [],
   "source": [
    "results_final_df = results_with_new_columns_df.drop(col(\"statusId\"))"
   ]
  },
  {
   "cell_type": "markdown",
   "id": "4707a3be",
   "metadata": {},
   "source": [
    "### Step 4. Save the transformed data in HDFS as a parquet"
   ]
  },
  {
   "cell_type": "code",
   "execution_count": 7,
   "id": "3f6392e3",
   "metadata": {},
   "outputs": [
    {
     "name": "stderr",
     "output_type": "stream",
     "text": [
      "                                                                                \r"
     ]
    }
   ],
   "source": [
    "results_final_df.write.mode(\"overwrite\").partitionBy(\"race_id\").parquet(\"/user/jupyter/formula1/processed/results\")"
   ]
  },
  {
   "cell_type": "code",
   "execution_count": 9,
   "id": "a0ceddf6",
   "metadata": {},
   "outputs": [],
   "source": [
    "spark.stop()"
   ]
  }
 ],
 "metadata": {
  "kernelspec": {
   "display_name": "Python 3 (ipykernel)",
   "language": "python",
   "name": "python3"
  },
  "language_info": {
   "codemirror_mode": {
    "name": "ipython",
    "version": 3
   },
   "file_extension": ".py",
   "mimetype": "text/x-python",
   "name": "python",
   "nbconvert_exporter": "python",
   "pygments_lexer": "ipython3",
   "version": "3.10.12"
  }
 },
 "nbformat": 4,
 "nbformat_minor": 5
}
