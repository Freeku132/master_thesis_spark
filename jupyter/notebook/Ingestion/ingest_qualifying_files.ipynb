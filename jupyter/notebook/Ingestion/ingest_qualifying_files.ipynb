{
 "cells": [
  {
   "cell_type": "markdown",
   "id": "9a176cbb",
   "metadata": {},
   "source": [
    "## Ingest qualifying multiLine json files"
   ]
  },
  {
   "cell_type": "markdown",
   "id": "75c7d151",
   "metadata": {},
   "source": [
    "### Step1. Read multiple multiLine json files using DataFrame reader"
   ]
  },
  {
   "cell_type": "code",
   "execution_count": 1,
   "id": "2df5dac8",
   "metadata": {},
   "outputs": [],
   "source": [
    "import findspark\n",
    "findspark.init('/opt/spark')\n",
    "from pyspark.sql import SparkSession\n",
    "from pyspark.sql.types import StructType, StructField, IntegerType, StringType\n",
    "from pyspark.sql.functions import current_timestamp"
   ]
  },
  {
   "cell_type": "code",
   "execution_count": 2,
   "id": "1557152a",
   "metadata": {},
   "outputs": [
    {
     "name": "stderr",
     "output_type": "stream",
     "text": [
      "Setting default log level to \"WARN\".\n",
      "To adjust logging level use sc.setLogLevel(newLevel). For SparkR, use setLogLevel(newLevel).\n"
     ]
    }
   ],
   "source": [
    "spark = SparkSession.builder\\\n",
    "    .enableHiveSupport()\\\n",
    "    .getOrCreate()"
   ]
  },
  {
   "cell_type": "code",
   "execution_count": 3,
   "id": "2b577c14",
   "metadata": {},
   "outputs": [],
   "source": [
    "qualifying_schema = StructType(\n",
    "    fields = [\n",
    "        StructField(\"qualifyId\", IntegerType(), False),\n",
    "        StructField(\"raceId\", IntegerType(), True),\n",
    "        StructField(\"driverId\", IntegerType(), True),\n",
    "        StructField(\"constructorId\", IntegerType(), True),\n",
    "        StructField(\"number\", IntegerType(), True),\n",
    "        StructField(\"position\", IntegerType(), True),\n",
    "        StructField(\"q1\", StringType(), True),\n",
    "        StructField(\"q2\", StringType(), True),\n",
    "        StructField(\"q3\", StringType(), True),\n",
    "])"
   ]
  },
  {
   "cell_type": "code",
   "execution_count": 4,
   "id": "5c6045ad",
   "metadata": {},
   "outputs": [],
   "source": [
    "qualifying_df = spark.read \\\n",
    "    .schema(qualifying_schema) \\\n",
    "    .option(\"multiLine\", True) \\\n",
    "    .json(\"/user/jupyter/formula1/raw/qualifying/qualifying_split_*.json\")"
   ]
  },
  {
   "cell_type": "markdown",
   "id": "81da603d",
   "metadata": {},
   "source": [
    "### Step2. Rename columns and add new columns\n"
   ]
  },
  {
   "cell_type": "code",
   "execution_count": 5,
   "id": "7c02c6cd",
   "metadata": {},
   "outputs": [],
   "source": [
    "final_qualifying_df = qualifying_df \\\n",
    "    .withColumnRenamed(\"driverId\", \"driver_id\") \\\n",
    "    .withColumnRenamed(\"raceId\", \"race_id\") \\\n",
    "    .withColumnRenamed(\"constructorId\", \"constructor_id\") \\\n",
    "    .withColumn(\"ingestion_date\", current_timestamp())"
   ]
  },
  {
   "cell_type": "code",
   "execution_count": 6,
   "id": "76bfd8c4",
   "metadata": {},
   "outputs": [
    {
     "name": "stderr",
     "output_type": "stream",
     "text": [
      "                                                                                \r"
     ]
    }
   ],
   "source": [
    "final_qualifying_df.write.mode(\"overwrite\").parquet(\"/user/jupyter/formula1/processed/qualifying\")"
   ]
  },
  {
   "cell_type": "code",
   "execution_count": 7,
   "id": "94b66cd7",
   "metadata": {},
   "outputs": [],
   "source": [
    "spark.stop()"
   ]
  }
 ],
 "metadata": {
  "kernelspec": {
   "display_name": "Python 3 (ipykernel)",
   "language": "python",
   "name": "python3"
  },
  "language_info": {
   "codemirror_mode": {
    "name": "ipython",
    "version": 3
   },
   "file_extension": ".py",
   "mimetype": "text/x-python",
   "name": "python",
   "nbconvert_exporter": "python",
   "pygments_lexer": "ipython3",
   "version": "3.10.12"
  }
 },
 "nbformat": 4,
 "nbformat_minor": 5
}
