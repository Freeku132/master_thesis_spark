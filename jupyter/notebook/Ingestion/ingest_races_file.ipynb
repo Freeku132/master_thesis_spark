{
 "cells": [
  {
   "cell_type": "markdown",
   "id": "e5709b57",
   "metadata": {},
   "source": [
    "## Ingest races.csv file"
   ]
  },
  {
   "cell_type": "markdown",
   "id": "048b528a",
   "metadata": {},
   "source": [
    "### Step 1. Read the csv file using spark DaraFrame reader"
   ]
  },
  {
   "cell_type": "code",
   "execution_count": 1,
   "id": "7927ccde",
   "metadata": {},
   "outputs": [],
   "source": [
    "import findspark\n",
    "findspark.init('/opt/spark')\n",
    "from pyspark.sql import SparkSession\n",
    "from pyspark.sql.types import StructType, StructField, IntegerType, StringType, DateType\n",
    "from pyspark.sql.functions import col, current_timestamp, to_timestamp, concat, lit"
   ]
  },
  {
   "cell_type": "code",
   "execution_count": 2,
   "id": "3cd899be",
   "metadata": {},
   "outputs": [
    {
     "name": "stderr",
     "output_type": "stream",
     "text": [
      "Setting default log level to \"WARN\".\n",
      "To adjust logging level use sc.setLogLevel(newLevel). For SparkR, use setLogLevel(newLevel).\n"
     ]
    },
    {
     "data": {
      "text/html": [
       "\n",
       "            <div>\n",
       "                <p><b>SparkSession - hive</b></p>\n",
       "                \n",
       "        <div>\n",
       "            <p><b>SparkContext</b></p>\n",
       "\n",
       "            <p><a href=\"http://jupyter:4040\">Spark UI</a></p>\n",
       "\n",
       "            <dl>\n",
       "              <dt>Version</dt>\n",
       "                <dd><code>v3.5.3</code></dd>\n",
       "              <dt>Master</dt>\n",
       "                <dd><code>yarn</code></dd>\n",
       "              <dt>AppName</dt>\n",
       "                <dd><code>pyspark-shell</code></dd>\n",
       "            </dl>\n",
       "        </div>\n",
       "        \n",
       "            </div>\n",
       "        "
      ],
      "text/plain": [
       "<pyspark.sql.session.SparkSession at 0x14b2a9d2ca60>"
      ]
     },
     "execution_count": 2,
     "metadata": {},
     "output_type": "execute_result"
    }
   ],
   "source": [
    "spark = SparkSession.builder\\\n",
    "    .enableHiveSupport()\\\n",
    "    .getOrCreate()\n",
    "spark"
   ]
  },
  {
   "cell_type": "code",
   "execution_count": 3,
   "id": "3cf3f269",
   "metadata": {},
   "outputs": [],
   "source": [
    "races_schema = StructType(\n",
    "    fields = [\n",
    "        StructField(\"raceId\", IntegerType(), False),\n",
    "        StructField(\"year\", IntegerType(), True),\n",
    "        StructField(\"round\", IntegerType(), True),\n",
    "        StructField(\"circuitId\", IntegerType(), True),\n",
    "        StructField(\"name\", StringType(), True),\n",
    "        StructField(\"date\", DateType(), True),\n",
    "        StructField(\"time\", StringType(), True),      \n",
    "        StructField(\"url\", StringType(), True),\n",
    "    ]\n",
    ")"
   ]
  },
  {
   "cell_type": "code",
   "execution_count": 4,
   "id": "5b6df012",
   "metadata": {},
   "outputs": [],
   "source": [
    "races_df= spark.read \\\n",
    "    .option(\"header\", True) \\\n",
    "    .schema(races_schema) \\\n",
    "    .csv(\"/user/jupyter/formula1/raw/races.csv\")"
   ]
  },
  {
   "cell_type": "markdown",
   "id": "f14326d1",
   "metadata": {},
   "source": [
    "### Step 2. Select and rename only required columns"
   ]
  },
  {
   "cell_type": "code",
   "execution_count": 5,
   "id": "04109200",
   "metadata": {},
   "outputs": [],
   "source": [
    "races_selected_df = races_df.select(\n",
    "    col(\"raceId\").alias(\"race_id\"),\n",
    "    col(\"year\").alias(\"race_year\"),\n",
    "    col(\"round\"),\n",
    "    col(\"circuitId\").alias(\"circuit_id\"),\n",
    "    col(\"name\"),\n",
    "    col(\"date\"),\n",
    "    col(\"time\")\n",
    ")"
   ]
  },
  {
   "cell_type": "markdown",
   "id": "7f0da97a",
   "metadata": {},
   "source": [
    "### Step 3. Transform date and time to race_timestamp and add ingestion_date"
   ]
  },
  {
   "cell_type": "code",
   "execution_count": 6,
   "id": "aff9c893",
   "metadata": {},
   "outputs": [],
   "source": [
    "races_final_df = races_selected_df \\\n",
    "    .withColumn(\"race_timestamp\", to_timestamp(concat(col(\"date\"), lit(\" \"), col(\"time\")), \"yyyy-MM-dd HH:mm:ss\")) \\\n",
    "    .withColumn(\"ingestion_date\", current_timestamp())"
   ]
  },
  {
   "cell_type": "markdown",
   "id": "603262a1",
   "metadata": {},
   "source": [
    "### Step 4. Partition by race_year and save the transformed data in HDFS as a parquet"
   ]
  },
  {
   "cell_type": "code",
   "execution_count": 7,
   "id": "2adee571",
   "metadata": {},
   "outputs": [
    {
     "name": "stderr",
     "output_type": "stream",
     "text": [
      "                                                                                \r"
     ]
    }
   ],
   "source": [
    "races_final_df.write.mode(\"overwrite\").partitionBy(\"race_year\").parquet(\"/user/jupyter/formula1/processed/races\")"
   ]
  },
  {
   "cell_type": "code",
   "execution_count": 8,
   "id": "f6898e6f",
   "metadata": {},
   "outputs": [],
   "source": [
    "spark.stop()"
   ]
  }
 ],
 "metadata": {
  "kernelspec": {
   "display_name": "Python 3 (ipykernel)",
   "language": "python",
   "name": "python3"
  },
  "language_info": {
   "codemirror_mode": {
    "name": "ipython",
    "version": 3
   },
   "file_extension": ".py",
   "mimetype": "text/x-python",
   "name": "python",
   "nbconvert_exporter": "python",
   "pygments_lexer": "ipython3",
   "version": "3.10.12"
  }
 },
 "nbformat": 4,
 "nbformat_minor": 5
}
