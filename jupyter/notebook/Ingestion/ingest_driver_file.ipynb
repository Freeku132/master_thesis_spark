{
 "cells": [
  {
   "cell_type": "markdown",
   "id": "7c9be827",
   "metadata": {},
   "source": [
    "## Ingest drivers.json file"
   ]
  },
  {
   "cell_type": "markdown",
   "id": "76d6366c",
   "metadata": {},
   "source": [
    "### Step 1. Read the json file using spark DataFrame reader"
   ]
  },
  {
   "cell_type": "code",
   "execution_count": 18,
   "id": "84c236c6",
   "metadata": {},
   "outputs": [],
   "source": [
    "import findspark\n",
    "findspark.init('/opt/spark')\n",
    "from pyspark.sql import SparkSession\n",
    "from pyspark.sql.types import StructType, StructField, IntegerType, StringType, DateType\n",
    "from pyspark.sql.functions import col, current_timestamp, concat, lit"
   ]
  },
  {
   "cell_type": "code",
   "execution_count": 7,
   "id": "0517c97b",
   "metadata": {},
   "outputs": [
    {
     "name": "stderr",
     "output_type": "stream",
     "text": [
      "Setting default log level to \"WARN\".\n",
      "To adjust logging level use sc.setLogLevel(newLevel). For SparkR, use setLogLevel(newLevel).\n"
     ]
    }
   ],
   "source": [
    "spark = SparkSession.builder\\\n",
    "    .enableHiveSupport()\\\n",
    "    .getOrCreate()"
   ]
  },
  {
   "cell_type": "code",
   "execution_count": 8,
   "id": "74a3cf73",
   "metadata": {},
   "outputs": [],
   "source": [
    "name_schema = StructType(\n",
    "    fields = [\n",
    "        StructField(\"forename\", StringType(), True),\n",
    "        StructField(\"surname\", StringType(), True)\n",
    "])"
   ]
  },
  {
   "cell_type": "code",
   "execution_count": 12,
   "id": "14440eae",
   "metadata": {},
   "outputs": [],
   "source": [
    "drivers_schema = StructType(\n",
    "    fields = [\n",
    "        StructField(\"driverId\", IntegerType(), False),\n",
    "        StructField(\"driverRef\", StringType(), True),\n",
    "        StructField(\"number\", IntegerType(), True),\n",
    "        StructField(\"code\", StringType(), True),\n",
    "        StructField(\"name\", name_schema),\n",
    "        StructField(\"dob\", DateType(), True),\n",
    "        StructField(\"nationality\", StringType(), True),\n",
    "        StructField(\"url\", StringType(), True)\n",
    "])"
   ]
  },
  {
   "cell_type": "code",
   "execution_count": 13,
   "id": "7e239e50",
   "metadata": {},
   "outputs": [],
   "source": [
    "drivers_df = spark.read \\\n",
    "    .schema(drivers_schema) \\\n",
    "    .json(\"/user/jupyter/formula1/raw/drivers.json\")"
   ]
  },
  {
   "cell_type": "markdown",
   "id": "41131c00",
   "metadata": {},
   "source": [
    "### Step 2. Rename columns and add new columns"
   ]
  },
  {
   "cell_type": "code",
   "execution_count": 25,
   "id": "1ef36f5a",
   "metadata": {},
   "outputs": [],
   "source": [
    "drivers_with_new_columns_df = drivers_df \\\n",
    "    .withColumnRenamed(\"driverId\", \"driver_id\") \\\n",
    "    .withColumnRenamed(\"driverRef\", \"driver_ref\") \\\n",
    "    .withColumn(\"ingestion_date\", current_timestamp()) \\\n",
    "    .withColumn(\"name\", concat(col(\"name.forename\"), lit(\" \"), col(\"name.surname\")))"
   ]
  },
  {
   "cell_type": "markdown",
   "id": "ee0e43e8",
   "metadata": {},
   "source": [
    "### Step 3. Drop unwanted columns"
   ]
  },
  {
   "cell_type": "code",
   "execution_count": 27,
   "id": "cd0a9d8e",
   "metadata": {},
   "outputs": [],
   "source": [
    "drivers_final_df = driver_with_new_columns_df.drop(col(\"url\"))"
   ]
  },
  {
   "cell_type": "markdown",
   "id": "8d680526",
   "metadata": {},
   "source": [
    "### Step 4. Save the transformed data in HDFS as a parquet"
   ]
  },
  {
   "cell_type": "code",
   "execution_count": 30,
   "id": "828634ba",
   "metadata": {},
   "outputs": [
    {
     "name": "stderr",
     "output_type": "stream",
     "text": [
      "                                                                                \r"
     ]
    }
   ],
   "source": [
    "drivers_final_df.write.mode(\"overwrite\").parquet(\"/user/jupyter/formula1/processed/drivers\")"
   ]
  },
  {
   "cell_type": "code",
   "execution_count": 33,
   "id": "0d8bb9b6",
   "metadata": {},
   "outputs": [],
   "source": [
    "spark.stop()"
   ]
  }
 ],
 "metadata": {
  "kernelspec": {
   "display_name": "Python 3 (ipykernel)",
   "language": "python",
   "name": "python3"
  },
  "language_info": {
   "codemirror_mode": {
    "name": "ipython",
    "version": 3
   },
   "file_extension": ".py",
   "mimetype": "text/x-python",
   "name": "python",
   "nbconvert_exporter": "python",
   "pygments_lexer": "ipython3",
   "version": "3.10.12"
  }
 },
 "nbformat": 4,
 "nbformat_minor": 5
}
