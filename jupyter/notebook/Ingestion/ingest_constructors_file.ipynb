{
 "cells": [
  {
   "cell_type": "markdown",
   "id": "bb30eb04",
   "metadata": {},
   "source": [
    "## Ingest constructors.json file"
   ]
  },
  {
   "cell_type": "markdown",
   "id": "9ca161e3",
   "metadata": {},
   "source": [
    "### Step 1. Read the json file using spark DataFrame reader"
   ]
  },
  {
   "cell_type": "code",
   "execution_count": 1,
   "id": "dee71302",
   "metadata": {},
   "outputs": [],
   "source": [
    "import findspark\n",
    "findspark.init('/opt/spark')\n",
    "from pyspark.sql import SparkSession\n",
    "from pyspark.sql.types import StructType, StructField, IntegerType, StringType, DoubleType\n",
    "from pyspark.sql.functions import col, current_timestamp"
   ]
  },
  {
   "cell_type": "code",
   "execution_count": 2,
   "id": "de56101b",
   "metadata": {},
   "outputs": [
    {
     "name": "stderr",
     "output_type": "stream",
     "text": [
      "Setting default log level to \"WARN\".\n",
      "To adjust logging level use sc.setLogLevel(newLevel). For SparkR, use setLogLevel(newLevel).\n"
     ]
    }
   ],
   "source": [
    "spark = SparkSession.builder\\\n",
    "    .enableHiveSupport()\\\n",
    "    .getOrCreate()"
   ]
  },
  {
   "cell_type": "code",
   "execution_count": 3,
   "id": "474b5d76",
   "metadata": {},
   "outputs": [],
   "source": [
    "constructors_schema = StructType(\n",
    "    fields = [\n",
    "        StructField(\"constructorId\", IntegerType(), False),\n",
    "        StructField(\"constructorRef\", StringType(), True),\n",
    "        StructField(\"name\", StringType(), True),\n",
    "        StructField(\"nationality\", StringType(), True),\n",
    "        StructField(\"url\", StringType(), True),\n",
    "])"
   ]
  },
  {
   "cell_type": "code",
   "execution_count": 4,
   "id": "7ffdb824",
   "metadata": {},
   "outputs": [],
   "source": [
    "constructors_df = spark.read \\\n",
    "    .schema(constructors_schema) \\\n",
    "    .json(\"/user/jupyter/formula1/raw/constructors.json\")"
   ]
  },
  {
   "cell_type": "markdown",
   "id": "aef320be",
   "metadata": {},
   "source": [
    "### Step 2. Drop unwanted columns"
   ]
  },
  {
   "cell_type": "code",
   "execution_count": 6,
   "id": "76b436b2",
   "metadata": {},
   "outputs": [],
   "source": [
    "constructors_selected_df = constructors_df \\\n",
    "    .drop(col(\"url\"))"
   ]
  },
  {
   "cell_type": "markdown",
   "id": "1478e8ba",
   "metadata": {},
   "source": [
    "### Step 3. Rename columns and add ingestion date"
   ]
  },
  {
   "cell_type": "code",
   "execution_count": 12,
   "id": "151ee9fa",
   "metadata": {},
   "outputs": [],
   "source": [
    "constructors_final_df = constructors_selected_df \\\n",
    "    .withColumnRenamed(\"constructorId\", \"constructor_id\") \\\n",
    "    .withColumnRenamed(\"constructorRef\", \"constructor_ref\") \\\n",
    "    .withColumn(\"ingestion_date\", current_timestamp())"
   ]
  },
  {
   "cell_type": "markdown",
   "id": "0290986f",
   "metadata": {},
   "source": [
    "### Step 4. Save the transformed data in HDFS as a parquet"
   ]
  },
  {
   "cell_type": "code",
   "execution_count": 14,
   "id": "ccf47e14",
   "metadata": {},
   "outputs": [
    {
     "name": "stderr",
     "output_type": "stream",
     "text": [
      "\r",
      "[Stage 6:>                                                          (0 + 1) / 1]\r",
      "\r",
      "                                                                                \r"
     ]
    }
   ],
   "source": [
    "constructors_final_df.write.mode(\"overwrite\").parquet(\"/user/jupyter/formula1/processed/constructors\")"
   ]
  },
  {
   "cell_type": "code",
   "execution_count": 16,
   "id": "bf169f09",
   "metadata": {},
   "outputs": [],
   "source": [
    "spark.stop()"
   ]
  }
 ],
 "metadata": {
  "kernelspec": {
   "display_name": "Python 3 (ipykernel)",
   "language": "python",
   "name": "python3"
  },
  "language_info": {
   "codemirror_mode": {
    "name": "ipython",
    "version": 3
   },
   "file_extension": ".py",
   "mimetype": "text/x-python",
   "name": "python",
   "nbconvert_exporter": "python",
   "pygments_lexer": "ipython3",
   "version": "3.10.12"
  }
 },
 "nbformat": 4,
 "nbformat_minor": 5
}
