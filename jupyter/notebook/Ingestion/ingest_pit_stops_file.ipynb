{
 "cells": [
  {
   "cell_type": "markdown",
   "id": "e1a43a95",
   "metadata": {},
   "source": [
    "## Ingest pitstops.json file"
   ]
  },
  {
   "cell_type": "markdown",
   "id": "7f2f4d56",
   "metadata": {},
   "source": [
    "### Step1. Read multiLine json file using spark DataFrame reader"
   ]
  },
  {
   "cell_type": "code",
   "execution_count": 1,
   "id": "02309b07",
   "metadata": {},
   "outputs": [],
   "source": [
    "import findspark\n",
    "findspark.init('/opt/spark')\n",
    "from pyspark.sql import SparkSession\n",
    "from pyspark.sql.types import StructType, StructField, IntegerType, StringType\n",
    "from pyspark.sql.functions import current_timestamp"
   ]
  },
  {
   "cell_type": "code",
   "execution_count": 2,
   "id": "f569301c",
   "metadata": {},
   "outputs": [
    {
     "name": "stderr",
     "output_type": "stream",
     "text": [
      "Setting default log level to \"WARN\".\n",
      "To adjust logging level use sc.setLogLevel(newLevel). For SparkR, use setLogLevel(newLevel).\n"
     ]
    }
   ],
   "source": [
    "spark = SparkSession.builder\\\n",
    "    .enableHiveSupport()\\\n",
    "    .getOrCreate()"
   ]
  },
  {
   "cell_type": "code",
   "execution_count": 6,
   "id": "406ee958",
   "metadata": {},
   "outputs": [],
   "source": [
    "pit_stops_schema = StructType(\n",
    "    fields = [\n",
    "        StructField(\"raceId\", IntegerType(), False),\n",
    "        StructField(\"driverId\", IntegerType(), True),\n",
    "        StructField(\"stop\", StringType(), True),\n",
    "        StructField(\"lap\", IntegerType(), True),\n",
    "        StructField(\"time\", StringType(), True),\n",
    "        StructField(\"milliseconds\", IntegerType(), True),\n",
    "])"
   ]
  },
  {
   "cell_type": "code",
   "execution_count": 7,
   "id": "b0764789",
   "metadata": {},
   "outputs": [],
   "source": [
    "pit_stops_df = spark.read \\\n",
    "    .option(\"multiLine\", True) \\\n",
    "    .schema(pit_stops_schema) \\\n",
    "    .json(\"/user/jupyter/formula1/raw/pit_stops.json\")"
   ]
  },
  {
   "cell_type": "markdown",
   "id": "d2142235",
   "metadata": {},
   "source": [
    "### Step2. Rename columns and add new columns"
   ]
  },
  {
   "cell_type": "code",
   "execution_count": 9,
   "id": "ee041514",
   "metadata": {},
   "outputs": [],
   "source": [
    "final_df = pit_stops_df \\\n",
    "    .withColumnRenamed(\"driverId\", \"driver_id\") \\\n",
    "    .withColumnRenamed(\"raceID\", \"race_id\") \\\n",
    "    .withColumn(\"ingestion_date\", current_timestamp())"
   ]
  },
  {
   "cell_type": "markdown",
   "id": "7772b6cc",
   "metadata": {},
   "source": [
    "### Step3. Save the transformed data in HDFS as a parquet"
   ]
  },
  {
   "cell_type": "code",
   "execution_count": 10,
   "id": "8a37beea",
   "metadata": {},
   "outputs": [
    {
     "name": "stderr",
     "output_type": "stream",
     "text": [
      "                                                                                \r"
     ]
    }
   ],
   "source": [
    "final_df.write.mode(\"overwrite\").parquet(\"/user/jupyter/formula1/processed/pit_stops\")"
   ]
  },
  {
   "cell_type": "code",
   "execution_count": 12,
   "id": "5a8b84c1",
   "metadata": {},
   "outputs": [],
   "source": [
    "spark.stop()"
   ]
  }
 ],
 "metadata": {
  "kernelspec": {
   "display_name": "Python 3 (ipykernel)",
   "language": "python",
   "name": "python3"
  },
  "language_info": {
   "codemirror_mode": {
    "name": "ipython",
    "version": 3
   },
   "file_extension": ".py",
   "mimetype": "text/x-python",
   "name": "python",
   "nbconvert_exporter": "python",
   "pygments_lexer": "ipython3",
   "version": "3.10.12"
  }
 },
 "nbformat": 4,
 "nbformat_minor": 5
}
